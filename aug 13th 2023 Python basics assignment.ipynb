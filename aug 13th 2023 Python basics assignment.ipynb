{
 "cells": [
  {
   "cell_type": "code",
   "execution_count": 5,
   "id": "fd2e47c6-15a6-4a2b-92cd-b6c0a49bb885",
   "metadata": {},
   "outputs": [
    {
     "name": "stdout",
     "output_type": "stream",
     "text": [
      "x= 4 y= 5\n"
     ]
    }
   ],
   "source": [
    "x=5\n",
    "y=4\n",
    "x= x+y\n",
    "y= x-y\n",
    "\n",
    "x= x-y\n",
    "print(\"x=\",x , \"y=\", y)"
   ]
  },
  {
   "cell_type": "code",
   "execution_count": 6,
   "id": "19feeae1-d3c4-40b2-a6e6-053836539ef8",
   "metadata": {},
   "outputs": [
    {
     "name": "stdin",
     "output_type": "stream",
     "text": [
      "Enter the lenght of the recatnagle :\n",
      " 3\n",
      "Enter the width of the rectangle :\n",
      " 45\n"
     ]
    },
    {
     "name": "stdout",
     "output_type": "stream",
     "text": [
      "the area of recatngle is: 135.0\n"
     ]
    }
   ],
   "source": [
    "length = float(input(\"Enter the lenght of the recatnagle :\\n\"))\n",
    "width = float(input(\"Enter the width of the rectangle :\\n\"))\n",
    "\n",
    "Area = length * width;\n",
    "\n",
    "print(\"the area of recatngle is:\", Area)"
   ]
  },
  {
   "cell_type": "code",
   "execution_count": 4,
   "id": "c159e364-a17d-4b3e-89b3-292395956a82",
   "metadata": {},
   "outputs": [
    {
     "name": "stdin",
     "output_type": "stream",
     "text": [
      "Enter the Temperature in Celsius :\n",
      " 34\n"
     ]
    },
    {
     "name": "stdout",
     "output_type": "stream",
     "text": [
      "Temperature in Fahrenheit : 93.2\n"
     ]
    }
   ],
   "source": [
    "celsius = int(input(\"Enter the Temperature in Celsius :\\n\"))\n",
    "fahrenheit = (1.8 * celsius) + 32\n",
    "print(\"Temperature in Fahrenheit :\", fahrenheit)"
   ]
  },
  {
   "cell_type": "code",
   "execution_count": 3,
   "id": "03e91259-3ae6-4c73-8283-4b6f9b9f9173",
   "metadata": {},
   "outputs": [
    {
     "name": "stdin",
     "output_type": "stream",
     "text": [
      "Enter a string:  sanjay\n"
     ]
    },
    {
     "name": "stdout",
     "output_type": "stream",
     "text": [
      "Length of the input string is: 6\n"
     ]
    }
   ],
   "source": [
    "str = input(\"Enter a string: \")\n",
    "print(\"Length of the input string is:\", len(str))"
   ]
  },
  {
   "cell_type": "code",
   "execution_count": 2,
   "id": "f5c87a6a-28c8-4578-b960-8f1dca730313",
   "metadata": {},
   "outputs": [
    {
     "name": "stdout",
     "output_type": "stream",
     "text": [
      "5\n"
     ]
    }
   ],
   "source": [
    "string = \"GeekforGeeks!\"\n",
    "vowels = \"aeiouAEIOU\"\n",
    "\n",
    "count = sum(string.count(vowel) for vowel in vowels)\n",
    "print(count)"
   ]
  },
  {
   "cell_type": "code",
   "execution_count": 1,
   "id": "2673af17-6ba1-46dc-82b0-4c9d4fe65125",
   "metadata": {},
   "outputs": [
    {
     "name": "stdout",
     "output_type": "stream",
     "text": [
      "yajnas\n"
     ]
    }
   ],
   "source": [
    "name = 'sanjay'\n",
    "\n",
    "print(name[::-1])"
   ]
  },
  {
   "cell_type": "code",
   "execution_count": 7,
   "id": "44d53260-9e15-4c7d-b3dc-9440991c743c",
   "metadata": {},
   "outputs": [
    {
     "name": "stdout",
     "output_type": "stream",
     "text": [
      "Yes\n"
     ]
    }
   ],
   "source": [
    "def isPalindrome(s):\n",
    "    return s == s[::-1]\n",
    " \n",
    " \n",
    "# Driver code\n",
    "s = \"malayalam\"\n",
    "ans = isPalindrome(s)\n",
    " \n",
    "if ans:\n",
    "    print(\"Yes\")\n",
    "else:\n",
    "    print(\"No\")"
   ]
  },
  {
   "cell_type": "code",
   "execution_count": 8,
   "id": "a980a5d3-710e-417b-ab65-26667194eb3b",
   "metadata": {},
   "outputs": [
    {
     "name": "stdout",
     "output_type": "stream",
     "text": [
      "String after removing all the white spaces : Removewhitespaces\n"
     ]
    }
   ],
   "source": [
    "str1 = \"Remove white spaces\";  \n",
    "str1 = str1.replace(\" \",\"\");  \n",
    "print(\"String after removing all the white spaces : \" + str1);"
   ]
  }
 ],
 "metadata": {
  "kernelspec": {
   "display_name": "Python 3 (ipykernel)",
   "language": "python",
   "name": "python3"
  },
  "language_info": {
   "codemirror_mode": {
    "name": "ipython",
    "version": 3
   },
   "file_extension": ".py",
   "mimetype": "text/x-python",
   "name": "python",
   "nbconvert_exporter": "python",
   "pygments_lexer": "ipython3",
   "version": "3.10.8"
  }
 },
 "nbformat": 4,
 "nbformat_minor": 5
}
